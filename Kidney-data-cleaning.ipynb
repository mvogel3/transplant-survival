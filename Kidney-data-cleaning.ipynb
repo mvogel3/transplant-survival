{
 "cells": [
  {
   "cell_type": "code",
   "execution_count": 53,
   "id": "622203de",
   "metadata": {},
   "outputs": [],
   "source": [
    "#import dependencies\n",
    "import pandas as pd"
   ]
  },
  {
   "cell_type": "code",
   "execution_count": 54,
   "id": "c5a0d7d9",
   "metadata": {},
   "outputs": [],
   "source": [
    "#define the variables. Some excel files will need the same cleaning, those will be grouped together."
   ]
  },
  {
   "cell_type": "code",
   "execution_count": 55,
   "id": "55e677f2",
   "metadata": {},
   "outputs": [],
   "source": [
    "#get the first sheet name to turn into a dataframe - this will be for transplants from deceased donors. \n",
    "sheet_name = 'Figures C1-C2 - Deceased'\n",
    "\n",
    "c12_excel_files = ['1506_KI.XLS', '1512_KI.XLS', '1606_KI.XLS', '1701_KI.xls', '1707_KI.xls', '1711_KI.xls',\n",
    "                  '1808_KI.xls', '1811_KI.xls', '1905_KI.xls', '1911_KI.xls', '2006_KI.xls', '2011_KI.xls',\n",
    "                  '2105_KI.xls', '2111_KI.xls', '2205_KI.xls', '2211_KI.xls']\n",
    "\n",
    "\n",
    "\n",
    "col_keep = [\"ENTIRE_NAME\", \"CTR_CD\", \"CTR_TY\", \"RELEASE_DATE\", \"ORG\", \"RCC_A10_C\", \"RCC_A17_C\", \"RCC_A2_C\", \n",
    "            \"RCC_A34_C\", \"RCC_A49_C\", \"RCC_A64_C\", \" RCC_A65P_C\", \"RCC_AU_C\", \"RCC_BAB_C\",  \"RCC_BA_C\", \"RCC_BB_C\", \n",
    "            \"RCC_BO_C\", \"RCC_BMI20_C\", \"RCC_BMI25_C\", \"RCC_BMI30_C\", \"RCC_BMI31P_C\", \"RCC_BMINR_C\", \"RCC_BU_C\", \n",
    "            \"RCC_GF_C\", \"RCC_GM_C\", \"RCC_GU_C\", \"RCC_ICU_C\", \"RCC_HOSPNR_C\", \"RCC_HOSP_C\", \"RCC_PTXN_C\", \n",
    "            \"RCC_PTXU_C\", \"RCC_PTXY_C\", \"RCC_NOTHOSP_C\", \"RCC_N_C\"]"
   ]
  },
  {
   "cell_type": "code",
   "execution_count": 56,
   "id": "cf976283",
   "metadata": {},
   "outputs": [],
   "source": [
    "#import all the excel sheets from Figures C1-C2 - Deceased as dataframes. \n",
    "\n",
    "\n",
    "df_1506_c1c27d = pd.read_excel('kidney/1506_KI.XLS', sheet_name=sheet_name)\n",
    "df_1512_c1c27d = pd.read_excel('kidney/1512_KI.XLS', sheet_name=sheet_name)\n",
    "df_1606_c1c27d = pd.read_excel('kidney/1606_KI.XLS', sheet_name=sheet_name)\n",
    "df_1701_c1c27d = pd.read_excel('kidney/1701_KI.xls', sheet_name=sheet_name)\n",
    "df_1707_c1c27d = pd.read_excel('kidney/1707_KI.xls', sheet_name=sheet_name)\n",
    "df_1711_c1c27d = pd.read_excel('kidney/1711_KI.xls', sheet_name=sheet_name)\n",
    "df_1808_c1c27d = pd.read_excel('kidney/1808_KI.xls', sheet_name=sheet_name)\n",
    "df_1811_c1c27d = pd.read_excel('kidney/1811_KI.xls', sheet_name=sheet_name)\n",
    "df_1905_c1c27d = pd.read_excel('kidney/1905_KI.xls', sheet_name=sheet_name)\n",
    "df_1911_c1c27d = pd.read_excel('kidney/1911_KI.xls', sheet_name=sheet_name)\n",
    "df_2006_c1c27d = pd.read_excel('kidney/2006_KI.xls', sheet_name=sheet_name)\n",
    "df_2011_c1c27d = pd.read_excel('kidney/2011_KI.xls', sheet_name=sheet_name)\n",
    "df_2105_c1c27d = pd.read_excel('kidney/2105_KI.xls', sheet_name=sheet_name)\n",
    "df_2111_c1c27d = pd.read_excel('kidney/2111_KI.xls', sheet_name=sheet_name)\n",
    "df_2205_c1c27d = pd.read_excel('kidney/2205_KI.xls', sheet_name=sheet_name)\n",
    "df_2211_c1c27d = pd.read_excel('kidney/2211_KI.xls', sheet_name=sheet_name)\n"
   ]
  },
  {
   "cell_type": "code",
   "execution_count": 57,
   "id": "f6f474be",
   "metadata": {},
   "outputs": [],
   "source": [
    "#get Table 7 excel files\n",
    "sheet_name = 'Table 7 - Deceased'\n",
    "\n",
    "tb7_excel_files = ['1207_KI.XLS', '1301_KI.XLS', '1307_KI.XLS', '1401_KI.XLS', '1406_KI.XLS', '1412_KI.XLS']\n",
    "\n",
    "df_1207_c1c27d = pd.read_excel('kidney/1207_KI.XLS', sheet_name=sheet_name)\n",
    "df_1301_c1c27d = pd.read_excel('kidney/1301_KI.XLS', sheet_name=sheet_name)\n",
    "df_1307_c1c27d = pd.read_excel('kidney/1307_KI.XLS', sheet_name=sheet_name)\n",
    "df_1401_c1c27d = pd.read_excel('kidney/1401_KI.XLS', sheet_name=sheet_name)\n",
    "df_1406_c1c27d = pd.read_excel('kidney/1406_KI.XLS', sheet_name=sheet_name)\n",
    "df_1412_c1c27d = pd.read_excel('kidney/1412_KI.XLS', sheet_name=sheet_name)"
   ]
  },
  {
   "cell_type": "code",
   "execution_count": 58,
   "id": "22fbcef9",
   "metadata": {},
   "outputs": [
    {
     "name": "stdout",
     "output_type": "stream",
     "text": [
      "Variable           Type         Data/Info\n",
      "-----------------------------------------\n",
      "add_new            list         n=3\n",
      "agg_df_list        list         n=7\n",
      "all_variables      dict         n=130\n",
      "c12_excel_files    list         n=16\n",
      "c1c27d_df_list     list         n=22\n",
      "col_keep           list         n=34\n",
      "col_keep_strip     list         n=37\n",
      "column_a65         str          RCC_A65P_C\n",
      "column_a69         str          RCC_A69_C\n",
      "column_a70         str          RCC_A70P_C\n",
      "column_bmi31       str          RCC_BMI31P_C\n",
      "column_bmi35       str          RCC_BMI35_C\n",
      "column_bmi40       str          RCC_BMI40_C\n",
      "column_bmi41       str          RCC_BMI41P_C\n",
      "dataframes_list    list         n=26\n",
      "df                 DataFrame                             <...>n[234 rows x 201 columns]\n",
      "df_1207_c1c27d     DataFrame                             <...>n[233 rows x 194 columns]\n",
      "df_1301_c1c27d     DataFrame                             <...>n[233 rows x 194 columns]\n",
      "df_1307_c1c27d     DataFrame                             <...>n[232 rows x 194 columns]\n",
      "df_1401_c1c27d     DataFrame                             <...>n[233 rows x 194 columns]\n",
      "df_1406_c1c27d     DataFrame                             <...>n[235 rows x 194 columns]\n",
      "df_1412_c1c27d     DataFrame                             <...>n[232 rows x 194 columns]\n",
      "df_1506_c1c27d     DataFrame                             <...>n[232 rows x 194 columns]\n",
      "df_1512_c1c27d     DataFrame                             <...>n[235 rows x 194 columns]\n",
      "df_1606_c1c27d     DataFrame                             <...>n[237 rows x 194 columns]\n",
      "df_1701_c1c27d     DataFrame                             <...>n[235 rows x 194 columns]\n",
      "df_1707_c1c27d     DataFrame                             <...>n[236 rows x 194 columns]\n",
      "df_1711_c1c27d     DataFrame                             <...>n[238 rows x 194 columns]\n",
      "df_1808_c1c27d     DataFrame                             <...>n[238 rows x 194 columns]\n",
      "df_1811_c1c27d     DataFrame                             <...>n[240 rows x 194 columns]\n",
      "df_1905_c1c27d     DataFrame                             <...>n[239 rows x 194 columns]\n",
      "df_1911_c1c27d     DataFrame                             <...>n[234 rows x 198 columns]\n",
      "df_2006_c1c27d     DataFrame                             <...>n[234 rows x 198 columns]\n",
      "df_2011_c1c27d     DataFrame                             <...>n[232 rows x 198 columns]\n",
      "df_2105_c1c27d     DataFrame                             <...>n[233 rows x 198 columns]\n",
      "df_2111_c1c27d     DataFrame                             <...>n[233 rows x 198 columns]\n",
      "df_2205_c1c27d     DataFrame                             <...>n[232 rows x 198 columns]\n",
      "df_2211_c1c27d     DataFrame                             <...>n[234 rows x 198 columns]\n",
      "df_c1c27d_concat   DataFrame                             <...>n[5160 rows x 37 columns]\n",
      "new_df_list        list         n=22\n",
      "pd                 module       <module 'pandas' from '/U<...>ages/pandas/__init__.py'>\n",
      "sheet_name         str          Table 7 - Deceased\n",
      "tb7_excel_files    list         n=6\n"
     ]
    }
   ],
   "source": [
    "%whos"
   ]
  },
  {
   "cell_type": "code",
   "execution_count": 59,
   "id": "d35d5999",
   "metadata": {},
   "outputs": [],
   "source": [
    "#create a list of dataframes from sheet Figures C1-C2 - Deceased or Table 7 - Deceased which is: C1C27D\n",
    "c1c27d_df_list = [df_1506_c1c27d, df_1512_c1c27d, df_1606_c1c27d, df_1701_c1c27d, df_1707_c1c27d, \n",
    "                  df_1711_c1c27d, df_1808_c1c27d, df_1811_c1c27d, df_1905_c1c27d, df_1911_c1c27d,\n",
    "                  df_2006_c1c27d, df_2011_c1c27d, df_2105_c1c27d, df_2111_c1c27d, df_2205_c1c27d,\n",
    "                  df_2211_c1c27d, df_1207_c1c27d, df_1301_c1c27d, df_1307_c1c27d, df_1401_c1c27d,\n",
    "                  df_1406_c1c27d, df_1412_c1c27d]"
   ]
  },
  {
   "cell_type": "code",
   "execution_count": 60,
   "id": "ce275e15",
   "metadata": {},
   "outputs": [
    {
     "name": "stdout",
     "output_type": "stream",
     "text": [
      "198\n"
     ]
    }
   ],
   "source": [
    "#check number of columns tables C1-C2 - Deceased\n",
    "print(len(df_2211_c1c27d.columns))"
   ]
  },
  {
   "cell_type": "code",
   "execution_count": 61,
   "id": "1a8be35e",
   "metadata": {},
   "outputs": [
    {
     "name": "stdout",
     "output_type": "stream",
     "text": [
      "194\n"
     ]
    }
   ],
   "source": [
    "#check number of columns from sheet Table 7 - Deceased\n",
    "print(len(df_1207_c1c27d.columns))"
   ]
  },
  {
   "cell_type": "code",
   "execution_count": 62,
   "id": "7b95e66b",
   "metadata": {},
   "outputs": [],
   "source": [
    "#remove leading whitespace from columns from dataframes\n",
    "df_1207_c1c27d.columns = df_1207_c1c27d.columns.str.strip()\n",
    "df_1301_c1c27d.columns = df_1301_c1c27d.columns.str.strip()\n",
    "df_1307_c1c27d.columns = df_1307_c1c27d.columns.str.strip()\n",
    "df_1401_c1c27d.columns = df_1401_c1c27d.columns.str.strip()\n",
    "df_1406_c1c27d.columns = df_1406_c1c27d.columns.str.strip()\n",
    "df_1412_c1c27d.columns = df_1412_c1c27d.columns.str.strip()\n",
    "df_1506_c1c27d.columns = df_1506_c1c27d.columns.str.strip()\n",
    "df_1512_c1c27d.columns = df_1512_c1c27d.columns.str.strip()\n",
    "df_1606_c1c27d.columns = df_1606_c1c27d.columns.str.strip()\n"
   ]
  },
  {
   "cell_type": "code",
   "execution_count": 63,
   "id": "c3a207bd",
   "metadata": {},
   "outputs": [],
   "source": [
    "# df_1207_c1c27d\n",
    "# df_1301_c1c27d\n",
    "# df_1307_c1c27d\n",
    "# df_1401_c1c27d\n",
    "# df_1406_c1c27d\n",
    "# df_1412_c1c27d\n",
    "# df_1506_c1c27d\n",
    "# df_1512_c1c27d\n",
    "# df_1606_c1c27d\n",
    "# df_1701_c1c27d\n",
    "# df_1707_c1c27d\n",
    "# df_1711_c1c27d\n",
    "# df_1808_c1c27d\n",
    "# df_1811_c1c27d\n",
    "# df_1905_c1c27d\n",
    "# df_1911_c1c27d\n",
    "# df_2006_c1c27d\n",
    "# df_2011_c1c27d\n",
    "# df_2105_c1c27d\n",
    "# df_2111_c1c27d\n",
    "# df_2205_c1c27d\n",
    "# df_2211_c1c27d"
   ]
  },
  {
   "cell_type": "code",
   "execution_count": 64,
   "id": "db532064",
   "metadata": {},
   "outputs": [
    {
     "data": {
      "text/plain": [
       "list"
      ]
     },
     "execution_count": 64,
     "metadata": {},
     "output_type": "execute_result"
    }
   ],
   "source": [
    "all_variables = globals()\n",
    "\n",
    "# Filter the dictionary to get DataFrame variables only\n",
    "dataframes_list = [variable for variable in all_variables.values() if isinstance(variable, pd.DataFrame)]\n",
    "type(dataframes_list)"
   ]
  },
  {
   "cell_type": "code",
   "execution_count": 65,
   "id": "d7250a03",
   "metadata": {},
   "outputs": [],
   "source": [
    "#strip unwanted white space from the column list\n",
    "col_keep_strip = [s.lstrip() for s in col_keep]"
   ]
  },
  {
   "cell_type": "code",
   "execution_count": 66,
   "id": "b0350b6b",
   "metadata": {},
   "outputs": [],
   "source": [
    "#add these to the columns to keep list\n",
    "add_new = ['YEAR', 'MONTH', 'D_OR_L']\n",
    "col_keep_strip += add_new"
   ]
  },
  {
   "cell_type": "code",
   "execution_count": 67,
   "id": "d2b7437b",
   "metadata": {},
   "outputs": [
    {
     "data": {
      "text/plain": [
       "['ENTIRE_NAME',\n",
       " 'CTR_CD',\n",
       " 'CTR_TY',\n",
       " 'RELEASE_DATE',\n",
       " 'ORG',\n",
       " 'RCC_A10_C',\n",
       " 'RCC_A17_C',\n",
       " 'RCC_A2_C',\n",
       " 'RCC_A34_C',\n",
       " 'RCC_A49_C',\n",
       " 'RCC_A64_C',\n",
       " 'RCC_A65P_C',\n",
       " 'RCC_AU_C',\n",
       " 'RCC_BAB_C',\n",
       " 'RCC_BA_C',\n",
       " 'RCC_BB_C',\n",
       " 'RCC_BO_C',\n",
       " 'RCC_BMI20_C',\n",
       " 'RCC_BMI25_C',\n",
       " 'RCC_BMI30_C',\n",
       " 'RCC_BMI31P_C',\n",
       " 'RCC_BMINR_C',\n",
       " 'RCC_BU_C',\n",
       " 'RCC_GF_C',\n",
       " 'RCC_GM_C',\n",
       " 'RCC_GU_C',\n",
       " 'RCC_ICU_C',\n",
       " 'RCC_HOSPNR_C',\n",
       " 'RCC_HOSP_C',\n",
       " 'RCC_PTXN_C',\n",
       " 'RCC_PTXU_C',\n",
       " 'RCC_PTXY_C',\n",
       " 'RCC_NOTHOSP_C',\n",
       " 'RCC_N_C',\n",
       " 'YEAR',\n",
       " 'MONTH',\n",
       " 'D_OR_L']"
      ]
     },
     "execution_count": 67,
     "metadata": {},
     "output_type": "execute_result"
    }
   ],
   "source": [
    "col_keep_strip"
   ]
  },
  {
   "cell_type": "code",
   "execution_count": 68,
   "id": "193476a3",
   "metadata": {},
   "outputs": [
    {
     "data": {
      "text/plain": [
       "37"
      ]
     },
     "execution_count": 68,
     "metadata": {},
     "output_type": "execute_result"
    }
   ],
   "source": [
    "len(col_keep_strip)"
   ]
  },
  {
   "cell_type": "code",
   "execution_count": 69,
   "id": "2f2c2d12",
   "metadata": {},
   "outputs": [
    {
     "name": "stdout",
     "output_type": "stream",
     "text": [
      "23.6842105264\n",
      "27.848101265700002\n",
      "38.2978723406\n",
      "32.9411764702\n",
      "24.193548387\n",
      "24.242424242\n",
      "12.941176470599999\n"
     ]
    }
   ],
   "source": [
    "#create a dataframes list that need the aggregation for combing age group data\n",
    "agg_df_list = [df_1911_c1c27d, df_2006_c1c27d, df_2011_c1c27d, df_2105_c1c27d, df_2111_c1c27d, \n",
    "          df_2205_c1c27d, df_2211_c1c27d]\n",
    "\n",
    "column_a69 = 'RCC_A69_C'\n",
    "column_a70 = 'RCC_A70P_C'\n",
    "column_a65 = 'RCC_A65P_C'\n",
    "\n",
    "for df in agg_df_list:\n",
    "    \n",
    "    #add them together\n",
    "    df[column_a65] = df[column_a69] + df[column_a70]\n",
    "    print(df[column_a65][0])\n"
   ]
  },
  {
   "cell_type": "code",
   "execution_count": 70,
   "id": "ec3da1ad",
   "metadata": {},
   "outputs": [],
   "source": [
    "#add Unknown Age column and set it to zero\n",
    "for df in agg_df_list:\n",
    "    df['RCC_AU_C'] = 0"
   ]
  },
  {
   "cell_type": "code",
   "execution_count": 72,
   "id": "1ceada9e",
   "metadata": {},
   "outputs": [
    {
     "name": "stdout",
     "output_type": "stream",
     "text": [
      "34.2105263164\n",
      "37.9746835443\n",
      "42.5531914891\n",
      "43.5294117649\n",
      "38.709677418999995\n",
      "27.2727272733\n",
      "27.0588235299\n"
     ]
    }
   ],
   "source": [
    "#take columns RCC_BMI35_C + RCC_BMI40_C + RCC_BMI41P_C = RCC_BMI31P_C\n",
    "#This is for BMI greater than 35, 40 and 41 and combining them to be greater than 31 BMI\n",
    "\n",
    "column_bmi35 = 'RCC_BMI35_C'\n",
    "column_bmi40 = 'RCC_BMI40_C'\n",
    "column_bmi41 = 'RCC_BMI41P_C'\n",
    "column_bmi31 = 'RCC_BMI31P_C'\n",
    "\n",
    "for df in agg_df_list:\n",
    "    \n",
    "    #add them together\n",
    "    df[column_bmi31] = df[column_bmi35] + df[column_bmi40] + df[column_bmi41]\n",
    "    print(df[column_bmi31][0])\n"
   ]
  },
  {
   "cell_type": "code",
   "execution_count": 73,
   "id": "e53aa0c2",
   "metadata": {},
   "outputs": [],
   "source": [
    "df_1207_c1c27d = df_1207_c1c27d[col_keep_strip]\n",
    "df_1301_c1c27d = df_1301_c1c27d[col_keep_strip]\n",
    "df_1307_c1c27d = df_1307_c1c27d[col_keep_strip]\n",
    "df_1401_c1c27d = df_1401_c1c27d[col_keep_strip]\n",
    "df_1406_c1c27d = df_1406_c1c27d[col_keep_strip]\n",
    "df_1412_c1c27d = df_1412_c1c27d[col_keep_strip]\n",
    "df_1506_c1c27d = df_1506_c1c27d[col_keep_strip]\n",
    "df_1512_c1c27d = df_1512_c1c27d[col_keep_strip]\n",
    "df_1606_c1c27d = df_1606_c1c27d[col_keep_strip]\n",
    "df_1701_c1c27d = df_1701_c1c27d[col_keep_strip]\n",
    "df_1707_c1c27d = df_1707_c1c27d[col_keep_strip]\n",
    "df_1711_c1c27d = df_1711_c1c27d[col_keep_strip]\n",
    "df_1808_c1c27d = df_1808_c1c27d[col_keep_strip]\n",
    "df_1811_c1c27d = df_1811_c1c27d[col_keep_strip]\n",
    "df_1905_c1c27d = df_1905_c1c27d[col_keep_strip]\n",
    "df_1911_c1c27d = df_1911_c1c27d[col_keep_strip]\n",
    "df_2006_c1c27d = df_2006_c1c27d[col_keep_strip]\n",
    "df_2011_c1c27d = df_2011_c1c27d[col_keep_strip]\n",
    "df_2105_c1c27d = df_2105_c1c27d[col_keep_strip]\n",
    "df_2111_c1c27d = df_2111_c1c27d[col_keep_strip]\n",
    "df_2205_c1c27d = df_2205_c1c27d[col_keep_strip]\n",
    "df_2211_c1c27d = df_2211_c1c27d[col_keep_strip]"
   ]
  },
  {
   "cell_type": "code",
   "execution_count": 74,
   "id": "dd1d1fa7",
   "metadata": {},
   "outputs": [],
   "source": [
    "new_df_list = [df_1506_c1c27d, df_1512_c1c27d, df_1606_c1c27d, df_1701_c1c27d, df_1707_c1c27d, \n",
    "                  df_1711_c1c27d, df_1808_c1c27d, df_1811_c1c27d, df_1905_c1c27d, df_1911_c1c27d,\n",
    "                  df_2006_c1c27d, df_2011_c1c27d, df_2105_c1c27d, df_2111_c1c27d, df_2205_c1c27d,\n",
    "                  df_2211_c1c27d, df_1207_c1c27d, df_1301_c1c27d, df_1307_c1c27d, df_1401_c1c27d,\n",
    "                  df_1406_c1c27d, df_1412_c1c27d]"
   ]
  },
  {
   "cell_type": "code",
   "execution_count": 75,
   "id": "54e7ddc3",
   "metadata": {},
   "outputs": [
    {
     "name": "stdout",
     "output_type": "stream",
     "text": [
      "37\n"
     ]
    }
   ],
   "source": [
    "print(len(df_1905_c1c27d.columns))"
   ]
  },
  {
   "cell_type": "code",
   "execution_count": 76,
   "id": "21e01f16",
   "metadata": {},
   "outputs": [],
   "source": [
    "#concatenate all the dataframes together\n",
    "df_c1c27d_concat = pd.concat(new_df_list)"
   ]
  },
  {
   "cell_type": "code",
   "execution_count": 77,
   "id": "a563d93e",
   "metadata": {},
   "outputs": [
    {
     "data": {
      "text/html": [
       "<div>\n",
       "<style scoped>\n",
       "    .dataframe tbody tr th:only-of-type {\n",
       "        vertical-align: middle;\n",
       "    }\n",
       "\n",
       "    .dataframe tbody tr th {\n",
       "        vertical-align: top;\n",
       "    }\n",
       "\n",
       "    .dataframe thead th {\n",
       "        text-align: right;\n",
       "    }\n",
       "</style>\n",
       "<table border=\"1\" class=\"dataframe\">\n",
       "  <thead>\n",
       "    <tr style=\"text-align: right;\">\n",
       "      <th></th>\n",
       "      <th>ENTIRE_NAME</th>\n",
       "      <th>CTR_CD</th>\n",
       "      <th>CTR_TY</th>\n",
       "      <th>RELEASE_DATE</th>\n",
       "      <th>ORG</th>\n",
       "      <th>RCC_A10_C</th>\n",
       "      <th>RCC_A17_C</th>\n",
       "      <th>RCC_A2_C</th>\n",
       "      <th>RCC_A34_C</th>\n",
       "      <th>RCC_A49_C</th>\n",
       "      <th>...</th>\n",
       "      <th>RCC_HOSPNR_C</th>\n",
       "      <th>RCC_HOSP_C</th>\n",
       "      <th>RCC_PTXN_C</th>\n",
       "      <th>RCC_PTXU_C</th>\n",
       "      <th>RCC_PTXY_C</th>\n",
       "      <th>RCC_NOTHOSP_C</th>\n",
       "      <th>RCC_N_C</th>\n",
       "      <th>YEAR</th>\n",
       "      <th>MONTH</th>\n",
       "      <th>D_OR_L</th>\n",
       "    </tr>\n",
       "  </thead>\n",
       "  <tbody>\n",
       "    <tr>\n",
       "      <th>0</th>\n",
       "      <td>Children's of Alabama (ALCH)</td>\n",
       "      <td>ALCH</td>\n",
       "      <td>TX1</td>\n",
       "      <td>2015/06/16</td>\n",
       "      <td>Kidney</td>\n",
       "      <td>20.0</td>\n",
       "      <td>53.3</td>\n",
       "      <td>6.7</td>\n",
       "      <td>20.0</td>\n",
       "      <td>0.0</td>\n",
       "      <td>...</td>\n",
       "      <td>0.0</td>\n",
       "      <td>6.7</td>\n",
       "      <td>93.3</td>\n",
       "      <td>0.0</td>\n",
       "      <td>6.7</td>\n",
       "      <td>93.3</td>\n",
       "      <td>15</td>\n",
       "      <td>2015</td>\n",
       "      <td>6</td>\n",
       "      <td>DECEASED</td>\n",
       "    </tr>\n",
       "    <tr>\n",
       "      <th>1</th>\n",
       "      <td>University of Alabama Hospital (ALUA)</td>\n",
       "      <td>ALUA</td>\n",
       "      <td>TX1</td>\n",
       "      <td>2015/06/16</td>\n",
       "      <td>Kidney</td>\n",
       "      <td>0.0</td>\n",
       "      <td>0.0</td>\n",
       "      <td>0.0</td>\n",
       "      <td>11.3</td>\n",
       "      <td>25.8</td>\n",
       "      <td>...</td>\n",
       "      <td>0.0</td>\n",
       "      <td>0.8</td>\n",
       "      <td>84.7</td>\n",
       "      <td>0.0</td>\n",
       "      <td>15.3</td>\n",
       "      <td>97.6</td>\n",
       "      <td>124</td>\n",
       "      <td>2015</td>\n",
       "      <td>6</td>\n",
       "      <td>DECEASED</td>\n",
       "    </tr>\n",
       "    <tr>\n",
       "      <th>2</th>\n",
       "      <td>Baptist Medical Center (ARBH)</td>\n",
       "      <td>ARBH</td>\n",
       "      <td>TX1</td>\n",
       "      <td>2015/06/16</td>\n",
       "      <td>Kidney</td>\n",
       "      <td>0.0</td>\n",
       "      <td>0.0</td>\n",
       "      <td>0.0</td>\n",
       "      <td>0.0</td>\n",
       "      <td>42.9</td>\n",
       "      <td>...</td>\n",
       "      <td>0.0</td>\n",
       "      <td>19.0</td>\n",
       "      <td>95.2</td>\n",
       "      <td>0.0</td>\n",
       "      <td>4.8</td>\n",
       "      <td>81.0</td>\n",
       "      <td>21</td>\n",
       "      <td>2015</td>\n",
       "      <td>6</td>\n",
       "      <td>DECEASED</td>\n",
       "    </tr>\n",
       "    <tr>\n",
       "      <th>3</th>\n",
       "      <td>Arkansas Children's Hospital (ARCH)</td>\n",
       "      <td>ARCH</td>\n",
       "      <td>TX1</td>\n",
       "      <td>2015/06/16</td>\n",
       "      <td>Kidney</td>\n",
       "      <td>66.7</td>\n",
       "      <td>33.3</td>\n",
       "      <td>0.0</td>\n",
       "      <td>0.0</td>\n",
       "      <td>0.0</td>\n",
       "      <td>...</td>\n",
       "      <td>0.0</td>\n",
       "      <td>0.0</td>\n",
       "      <td>83.3</td>\n",
       "      <td>0.0</td>\n",
       "      <td>16.7</td>\n",
       "      <td>100.0</td>\n",
       "      <td>6</td>\n",
       "      <td>2015</td>\n",
       "      <td>6</td>\n",
       "      <td>DECEASED</td>\n",
       "    </tr>\n",
       "    <tr>\n",
       "      <th>4</th>\n",
       "      <td>UAMS Medical Center (ARUA)</td>\n",
       "      <td>ARUA</td>\n",
       "      <td>TX1</td>\n",
       "      <td>2015/06/16</td>\n",
       "      <td>Kidney</td>\n",
       "      <td>0.0</td>\n",
       "      <td>0.0</td>\n",
       "      <td>0.0</td>\n",
       "      <td>30.0</td>\n",
       "      <td>26.7</td>\n",
       "      <td>...</td>\n",
       "      <td>0.0</td>\n",
       "      <td>0.0</td>\n",
       "      <td>90.0</td>\n",
       "      <td>0.0</td>\n",
       "      <td>10.0</td>\n",
       "      <td>100.0</td>\n",
       "      <td>30</td>\n",
       "      <td>2015</td>\n",
       "      <td>6</td>\n",
       "      <td>DECEASED</td>\n",
       "    </tr>\n",
       "  </tbody>\n",
       "</table>\n",
       "<p>5 rows × 37 columns</p>\n",
       "</div>"
      ],
      "text/plain": [
       "                              ENTIRE_NAME  CTR_CD CTR_TY  RELEASE_DATE  \\\n",
       "0           Children's of Alabama (ALCH)    ALCH    TX1    2015/06/16    \n",
       "1  University of Alabama Hospital (ALUA)    ALUA    TX1    2015/06/16    \n",
       "2          Baptist Medical Center (ARBH)    ARBH    TX1    2015/06/16    \n",
       "3    Arkansas Children's Hospital (ARCH)    ARCH    TX1    2015/06/16    \n",
       "4             UAMS Medical Center (ARUA)    ARUA    TX1    2015/06/16    \n",
       "\n",
       "        ORG  RCC_A10_C  RCC_A17_C  RCC_A2_C  RCC_A34_C  RCC_A49_C  ...  \\\n",
       "0   Kidney        20.0       53.3       6.7       20.0        0.0  ...   \n",
       "1   Kidney         0.0        0.0       0.0       11.3       25.8  ...   \n",
       "2   Kidney         0.0        0.0       0.0        0.0       42.9  ...   \n",
       "3   Kidney        66.7       33.3       0.0        0.0        0.0  ...   \n",
       "4   Kidney         0.0        0.0       0.0       30.0       26.7  ...   \n",
       "\n",
       "   RCC_HOSPNR_C  RCC_HOSP_C  RCC_PTXN_C  RCC_PTXU_C  RCC_PTXY_C  \\\n",
       "0           0.0         6.7        93.3         0.0         6.7   \n",
       "1           0.0         0.8        84.7         0.0        15.3   \n",
       "2           0.0        19.0        95.2         0.0         4.8   \n",
       "3           0.0         0.0        83.3         0.0        16.7   \n",
       "4           0.0         0.0        90.0         0.0        10.0   \n",
       "\n",
       "   RCC_NOTHOSP_C  RCC_N_C  YEAR  MONTH    D_OR_L  \n",
       "0           93.3       15  2015      6  DECEASED  \n",
       "1           97.6      124  2015      6  DECEASED  \n",
       "2           81.0       21  2015      6  DECEASED  \n",
       "3          100.0        6  2015      6  DECEASED  \n",
       "4          100.0       30  2015      6  DECEASED  \n",
       "\n",
       "[5 rows x 37 columns]"
      ]
     },
     "execution_count": 77,
     "metadata": {},
     "output_type": "execute_result"
    }
   ],
   "source": [
    "df_c1c27d_concat.head()"
   ]
  },
  {
   "cell_type": "code",
   "execution_count": 78,
   "id": "f6ec6713",
   "metadata": {},
   "outputs": [],
   "source": [
    "#send to csv\n",
    "df_c1c27d_concat.to_csv('output/kidney_C1-C2-T7-D.csv')"
   ]
  },
  {
   "cell_type": "code",
   "execution_count": null,
   "id": "64852193",
   "metadata": {},
   "outputs": [],
   "source": []
  }
 ],
 "metadata": {
  "kernelspec": {
   "display_name": "PythonData",
   "language": "python",
   "name": "pythondata"
  },
  "language_info": {
   "codemirror_mode": {
    "name": "ipython",
    "version": 3
   },
   "file_extension": ".py",
   "mimetype": "text/x-python",
   "name": "python",
   "nbconvert_exporter": "python",
   "pygments_lexer": "ipython3",
   "version": "3.7.13"
  }
 },
 "nbformat": 4,
 "nbformat_minor": 5
}
