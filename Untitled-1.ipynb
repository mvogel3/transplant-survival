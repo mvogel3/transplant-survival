{
 "cells": [
  {
   "cell_type": "code",
   "execution_count": null,
   "metadata": {},
   "outputs": [],
   "source": [
    "import pandas as pd\n",
    "import os\n",
    "import re\n",
    "import calendar"
   ]
  },
  {
   "cell_type": "code",
   "execution_count": null,
   "metadata": {},
   "outputs": [],
   "source": [
    "excel_files = [file for file in os.listdir(\"Resources\") if not file.startswith(\"~\") and file.lower().endswith(\".xls\")]"
   ]
  },
  {
   "cell_type": "code",
   "execution_count": null,
   "metadata": {},
   "outputs": [],
   "source": [
    "concat=False;\n",
    "for excel in excel_files:\n",
    "    year_month = re.sub(\"[^\\d]\", \"\", excel)\n",
    "    year = \"20\"+year_month[0:2]\n",
    "    month = calendar.month_name[int(year_month[2:4])]\n",
    "\n",
    "    if(year in [\"2012\", \"2013\", \"2014\"]):\n",
    "        sheet_name = \"Table 7\"\n",
    "    else:\n",
    "        sheet_name = \"Figures C1-C2\"\n",
    "    \n",
    "    deceased_df = pd.read_excel(io=\"Resources/\"+excel, sheet_name=sheet_name+\" - Deceased\")\n",
    "    deceased_nation_df = pd.read_excel(io=\"Resources/\"+excel, sheet_name=sheet_name+\" - Deceased Nation\")\n",
    "    living_df = pd.read_excel(io=\"Resources/\"+excel, sheet_name=sheet_name+\" - Living\")\n",
    "    living_nation_df = pd.read_excel(io=\"Resources/\"+excel, sheet_name=sheet_name+\" - Living Nation\")\n",
    " \n",
    "    if(len(deceased_df.index)>0):\n",
    "        deceased_df = deceased_df.drop(deceased_df.index[0])\n",
    "    if(len(deceased_nation_df.index)>0):\n",
    "        deceased_nation_df = deceased_nation_df.drop(deceased_nation_df.index[0])\n",
    "    if(len(living_df.index)>0):\n",
    "        living_df = living_df.drop(living_df.index[0])\n",
    "    if(len(living_nation_df.index)>0):\n",
    "        living_nation_df = living_nation_df.drop(living_nation_df.index[0])\n",
    "        \n",
    "    deceased_df_cleaned = pd.DataFrame()\n",
    "    living_df_cleaned = pd.DataFrame()\n",
    "        \n",
    "    columns_to_keep = [\"ENTIRE_NAME\", \"CTR_CD\", \"CTR_TY\", \"RELEASE_DATE\", \"ORG\", \"RCC_A10_C\", \"RCC_A17_C\", \"RCC_A2_C\", \"RCC_A34_C\", \"RCC_A49_C\", \" RCC_A65P_C\", \"RCC_AU_C\", \"RCC_BAB_C\",  \"RCC_BA_C\", \"RCC_BB_C\", \"RCC_BO_C\", \"RCC_BMI20_C\", \"RCC_BMI25_C\", \"RCC_BMI30_C\", \"RCC_BMI31P_C\", \"RCC_BMINR_C\", \"RCC_BU_C\", \"RCC_GF_C\", \"RCC_GM_C\", \"RCC_GU_C\", \"RCC_ICU_C\", \"RCC_HOSPNR_C\",\n",
    "\"RCC_HOSP_C\", \"RCC_PTXN_C\", \"RCC_PTXU_C\", \"RCC_PTXY_C\", \"RCC_NOTHOSP_C\", \"RCC_TST1_C\",  \"RCC_TST1_R\", \"RCC_TST1A_C\", \"RCC_TST1A_R\", \"RCC_TST1B_C\", \" RCC_TST1B_R\", \"RCC_TST2_C\", \"RCC_TST2_R\", \"RCC_TST2A_C\", \"RCC_TST2A_R\", \"RCC_TST2B_C\", \"RCC_TST2B_R\", \"RCC_TST3_C\", \"RCC_TST3_R\", \"RCC_ME11_C\", \"RCC_ME11_R\", \"RCC_ME15_C\", \"RCC_ME15_R\", \"RCC_ME21_C\", \"RCC_ME21_R\", \"RCC_ME31_C\", \"RCC_ME31_R\", \"RCC_ME6_C\", \"RCC_ME6_R\", \"RCC_PE6_C\",\n",
    "\"RCC_PE6_R\", \"RCC_PE11_C\", \"RCC_PE11_R\", \"RCC_PE15_C\", \"RCC_PE15_R\", \"RCC_PE21_C\",\n",
    "\"RCC_PE21_R\", \"RCC_PE31_C\", \"RCC_PE31_R\", \"RCC_TINA_C\", \"RCC_TINA_R\"]\n",
    "    \n",
    "    \n",
    "    for column in columns_to_keep:\n",
    "        if column in deceased_df:\n",
    "            deceased_df_cleaned[column]=deceased_df[column]\n",
    "        elif column+\" \" in deceased_df:\n",
    "            deceased_df_cleaned[column]=deceased_df[column+\" \"]\n",
    "        elif \" \"+column in deceased_df:\n",
    "            deceased_df_cleaned[column]=deceased_df[\" \"+column]\n",
    "        elif \" \"+column+\" \" in deceased_df:\n",
    "            deceased_df_cleaned[column]=deceased_df[\" \"+column+\" \"]\n",
    "            \n",
    "        if column in living_df:\n",
    "            living_df_cleaned[column]=living_df[column]\n",
    "        elif column+\" \" in living_df:\n",
    "            living_df_cleaned[column]=living_df[column+\" \"]\n",
    "        elif \" \"+column in living_df:\n",
    "            living_df_cleaned[column]=living_df[\" \"+column]\n",
    "        elif \" \"+column+\" \" in living_df:\n",
    "            living_df_cleaned[column]=living_df[\" \"+column+\" \"]\n",
    "\n",
    "    deceased_df_cleaned[\"D_OR_L\"] = \"D\"\n",
    "    deceased_nation_df[\"D_OR_L\"] = \"D\"\n",
    "    living_df_cleaned[\"D_OR_L\"] = \"L\"\n",
    "    living_nation_df[\"D_OR_L\"] = \"L\"\n",
    "    \n",
    "    center_df = pd.concat([deceased_df_cleaned, living_df_cleaned], axis=0)\n",
    "    nation_df = pd.concat([deceased_nation_df, living_nation_df], axis=0)\n",
    "    \n",
    "    \n",
    "    center_df[\"YEAR\"]=year\n",
    "    center_df[\"MONTH\"]=month\n",
    "    nation_df[\"YEAR\"]=year\n",
    "    nation_df[\"MONTH\"]=month\n",
    "    \n",
    "    if(concat==True):\n",
    "        merged_center_df= pd.concat([merged_center_df, center_df], axis=0)\n",
    "        merged_nation_df= pd.concat([merged_nation_df, nation_df], axis=0)\n",
    "    else:\n",
    "        merged_center_df=center_df\n",
    "        merged_nation_df=nation_df\n",
    "        concat=True"
   ]
  },
  {
   "cell_type": "code",
   "execution_count": null,
   "metadata": {},
   "outputs": [],
   "source": [
    "#merged_center_df.dropna(inplace = True)\n",
    "merged_center_df"
   ]
  },
  {
   "cell_type": "code",
   "execution_count": null,
   "metadata": {},
   "outputs": [],
   "source": [
    "#merged_nation_df.dropna(inplace = True)\n",
    "merged_nation_df"
   ]
  },
  {
   "cell_type": "code",
   "execution_count": null,
   "metadata": {},
   "outputs": [],
   "source": [
    "#merged_center_df.to_csv(\"Merged_Data/final_center.csv\")\n",
    "#merged_nation_df.to_csv(\"Merged_Data/final_nation.csv\")"
   ]
  },
  {
   "cell_type": "code",
   "execution_count": null,
   "metadata": {},
   "outputs": [],
   "source": []
  }
 ],
 "metadata": {
  "kernelspec": {
   "display_name": "Python 3 (ipykernel)",
   "language": "python",
   "name": "python3"
  },
  "language_info": {
   "codemirror_mode": {
    "name": "ipython",
    "version": 3
   },
   "file_extension": ".py",
   "mimetype": "text/x-python",
   "name": "python",
   "nbconvert_exporter": "python",
   "pygments_lexer": "ipython3",
   "version": "3.7.13"
  },
  "vscode": {
   "interpreter": {
    "hash": "31f2aee4e71d21fbe5cf8b01ff0e069b9275f58929596ceb00d14d90e3e16cd6"
   }
  }
 },
 "nbformat": 4,
 "nbformat_minor": 2
}
