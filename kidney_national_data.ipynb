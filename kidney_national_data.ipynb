{
 "cells": [
  {
   "cell_type": "code",
   "execution_count": 3,
   "id": "7d36ec13",
   "metadata": {},
   "outputs": [],
   "source": [
    "import pandas as pd"
   ]
  },
  {
   "cell_type": "code",
   "execution_count": 4,
   "id": "86d0eed3",
   "metadata": {},
   "outputs": [],
   "source": [
    "#get the first sheet name to turn into a dataframe - this will be for transplants from deceased donors. \n",
    "sheet_name = 'Figures C1-C2 - Deceased Nation'\n",
    "\n",
    "c12_excel_files = ['1506_KI.XLS', '1512_KI.XLS', '1606_KI.XLS', '1701_KI.xls', '1707_KI.xls', '1711_KI.xls',\n",
    "                  '1808_KI.xls', '1811_KI.xls', '1905_KI.xls', '1911_KI.xls', '2006_KI.xls', '2011_KI.xls',\n",
    "                  '2105_KI.xls', '2111_KI.xls', '2205_KI.xls', '2211_KI.xls']\n"
   ]
  },
  {
   "cell_type": "code",
   "execution_count": 5,
   "id": "de867158",
   "metadata": {},
   "outputs": [],
   "source": [
    "#import all the excel sheets from Figures C1-C2 - Living as dataframes. \n",
    "\n",
    "\n",
    "df_1506_c1c27l = pd.read_excel('kidney/1506_KI.XLS', sheet_name=sheet_name)\n",
    "df_1512_c1c27l = pd.read_excel('kidney/1512_KI.XLS', sheet_name=sheet_name)\n",
    "df_1606_c1c27l = pd.read_excel('kidney/1606_KI.XLS', sheet_name=sheet_name)\n",
    "df_1701_c1c27l = pd.read_excel('kidney/1701_KI.xls', sheet_name=sheet_name)\n",
    "df_1707_c1c27l = pd.read_excel('kidney/1707_KI.xls', sheet_name=sheet_name)\n",
    "df_1711_c1c27l = pd.read_excel('kidney/1711_KI.xls', sheet_name=sheet_name)\n",
    "df_1808_c1c27l = pd.read_excel('kidney/1808_KI.xls', sheet_name=sheet_name)\n",
    "df_1811_c1c27l = pd.read_excel('kidney/1811_KI.xls', sheet_name=sheet_name)\n",
    "df_1905_c1c27l = pd.read_excel('kidney/1905_KI.xls', sheet_name=sheet_name)\n",
    "df_1911_c1c27l = pd.read_excel('kidney/1911_KI.xls', sheet_name=sheet_name)\n",
    "df_2006_c1c27l = pd.read_excel('kidney/2006_KI.xls', sheet_name=sheet_name)\n",
    "df_2011_c1c27l = pd.read_excel('kidney/2011_KI.xls', sheet_name=sheet_name)\n",
    "df_2105_c1c27l = pd.read_excel('kidney/2105_KI.xls', sheet_name=sheet_name)\n",
    "df_2111_c1c27l = pd.read_excel('kidney/2111_KI.xls', sheet_name=sheet_name)\n",
    "df_2205_c1c27l = pd.read_excel('kidney/2205_KI.xls', sheet_name=sheet_name)\n",
    "df_2211_c1c27l = pd.read_excel('kidney/2211_KI.xls', sheet_name=sheet_name)\n"
   ]
  },
  {
   "cell_type": "code",
   "execution_count": 6,
   "id": "8bc3f3bd",
   "metadata": {},
   "outputs": [],
   "source": [
    "#get Table 7 excel files\n",
    "sheet_name = 'Table 7 - Deceased Nation'\n",
    "\n",
    "tb7_excel_files = ['1207_KI.XLS', '1301_KI.XLS', '1307_KI.XLS', '1401_KI.XLS', '1406_KI.XLS', '1412_KI.XLS']\n",
    "\n",
    "df_1207_c1c27l = pd.read_excel('kidney/1207_KI.XLS', sheet_name=sheet_name)\n",
    "df_1301_c1c27l = pd.read_excel('kidney/1301_KI.XLS', sheet_name=sheet_name)\n",
    "df_1307_c1c27l = pd.read_excel('kidney/1307_KI.XLS', sheet_name=sheet_name)\n",
    "df_1401_c1c27l = pd.read_excel('kidney/1401_KI.XLS', sheet_name=sheet_name)\n",
    "df_1406_c1c27l = pd.read_excel('kidney/1406_KI.XLS', sheet_name=sheet_name)\n",
    "df_1412_c1c27l = pd.read_excel('kidney/1412_KI.XLS', sheet_name=sheet_name)"
   ]
  },
  {
   "cell_type": "code",
   "execution_count": 7,
   "id": "4e00b23e",
   "metadata": {},
   "outputs": [],
   "source": [
    "#create a list of dataframes from sheet Figures C1-C2 - Living or Table 7 - Living which is: C1C27L\n",
    "c1c27l_df_list = [df_1506_c1c27l, df_1512_c1c27l, df_1606_c1c27l, df_1701_c1c27l, df_1707_c1c27l, \n",
    "                  df_1711_c1c27l, df_1808_c1c27l, df_1811_c1c27l, df_1905_c1c27l, df_1911_c1c27l,\n",
    "                  df_2006_c1c27l, df_2011_c1c27l, df_2105_c1c27l, df_2111_c1c27l, df_2205_c1c27l,\n",
    "                  df_2211_c1c27l, df_1207_c1c27l, df_1301_c1c27l, df_1307_c1c27l, df_1401_c1c27l,\n",
    "                  df_1406_c1c27l, df_1412_c1c27l]"
   ]
  },
  {
   "cell_type": "code",
   "execution_count": 8,
   "id": "9fd2df5c",
   "metadata": {},
   "outputs": [],
   "source": [
    "#remove leading whitespace from columns from dataframes\n",
    "df_1207_c1c27l.columns = df_1207_c1c27l.columns.str.strip()\n",
    "df_1301_c1c27l.columns = df_1301_c1c27l.columns.str.strip()\n",
    "df_1307_c1c27l.columns = df_1307_c1c27l.columns.str.strip()\n",
    "df_1401_c1c27l.columns = df_1401_c1c27l.columns.str.strip()\n",
    "df_1406_c1c27l.columns = df_1406_c1c27l.columns.str.strip()\n",
    "df_1412_c1c27l.columns = df_1412_c1c27l.columns.str.strip()\n",
    "df_1506_c1c27l.columns = df_1506_c1c27l.columns.str.strip()\n",
    "df_1512_c1c27l.columns = df_1512_c1c27l.columns.str.strip()\n",
    "df_1606_c1c27l.columns = df_1606_c1c27l.columns.str.strip()\n"
   ]
  },
  {
   "cell_type": "code",
   "execution_count": null,
   "id": "96d3756d",
   "metadata": {},
   "outputs": [],
   "source": [
    "col_keep_n = ['ENTIRE_NAME', 'CTR_CD', 'CTR_TY', 'RELEASE_DATE', 'ORG', 'RCL_A10_N', 'RCL_A17_N', \n",
    "              'RCL_A2_N', 'RCL_A34_N', 'RCL_A49_N', ' RCL_A64_N', 'RCL_A65P_N', 'RCL_AU_N', 'RCL_BAB_N', 'RCL_BA_N', \n",
    "              'RCL_BB_N', 'RCL_BO_N', 'RCL_BMI20_N', 'RCL_BMI25_N', 'RCL_BMI30_N', 'RCL_BMI31P_N', 'RCL_BMINR_N', \n",
    "              'RCL_BU_N', \n",
    "              'RCL_GF_N', 'RCL_GM_N', 'RCL_GU_N', 'RCL_ICU_N', 'RCL_HOSPNR_N', 'RCL_HOSP_N', 'RCL_PTXN_N', \n",
    "              'RCL_PTXU_N', 'RCL_PTXY_N', 'RCCL_NOTHOSP_N', 'RCL_TST1_N', 'RCL_TST1A_N', 'RCL_TST1B_N', 'RCL_TST2_N', \n",
    "              'RCL_TST2A_N', 'RCL_TST2B_N', 'RCL_TST3_N', 'RCL_ME11_N', 'RCL_ME15_N', 'RCL_ME21_N', 'RCL_ME31_N', \n",
    "              'RCL_ME6_N', 'RCL_PE6_N', 'RCL_PE11_N', 'RCL_PE15_N', 'RCL_PE21_N', 'RCL_PE31_N', 'RCL_TINA_N', \n",
    "              'RCL_N_N', 'YEAR', 'MONTH', 'D_OR_L']"
   ]
  }
 ],
 "metadata": {
  "kernelspec": {
   "display_name": "PythonData",
   "language": "python",
   "name": "pythondata"
  },
  "language_info": {
   "codemirror_mode": {
    "name": "ipython",
    "version": 3
   },
   "file_extension": ".py",
   "mimetype": "text/x-python",
   "name": "python",
   "nbconvert_exporter": "python",
   "pygments_lexer": "ipython3",
   "version": "3.7.13"
  }
 },
 "nbformat": 4,
 "nbformat_minor": 5
}
