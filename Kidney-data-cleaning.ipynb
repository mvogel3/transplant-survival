{
 "cells": [
  {
   "cell_type": "code",
   "execution_count": 1,
   "id": "d3130085",
   "metadata": {},
   "outputs": [],
   "source": [
    "#import dependencies\n",
    "import pandas as pd"
   ]
  },
  {
   "cell_type": "code",
   "execution_count": 2,
   "id": "22a3dacd",
   "metadata": {},
   "outputs": [],
   "source": [
    "#define the variables. Some excel files will need the same cleaning, those will be grouped together."
   ]
  },
  {
   "cell_type": "code",
   "execution_count": 3,
   "id": "57275b48",
   "metadata": {},
   "outputs": [],
   "source": [
    "#get the first sheet name to turn into a dataframe - this will be for transplants from deceased donors. \n",
    "sheet_name = 'Figures C1-C2 - Deceased'\n",
    "\n",
    "c12_excel_files = ['1506_KI.XLS', '1512_KI.XLS', '1606_KI.XLS', '1701_KI.xls', '1707_KI.xls', '1711_KI.xls',\n",
    "                  '1808_KI.xls', '1811_KI.xls', '1905_KI.xls', '1911_KI.xls', '2006_KI.xls', '2011_KI.xls',\n",
    "                  '2105_KI.xls', '2111_KI.xls', '2205_KI.xls', '2211_KI.xls']\n",
    "\n",
    "\n",
    "\n",
    "col_keep = [\"ENTIRE_NAME\", \"CTR_CD\", \"CTR_TY\", \"RELEASE_DATE\", \"ORG\", \"RCC_A10_C\", \"RCC_A17_C\", \"RCC_A2_C\", \n",
    "            \"RCC_A34_C\", \"RCC_A49_C\", \" RCC_A65P_C\", \"RCC_AU_C\", \"RCC_BAB_C\",  \"RCC_BA_C\", \"RCC_BB_C\", \n",
    "            \"RCC_BO_C\", \"RCC_BMI20_C\", \"RCC_BMI25_C\", \"RCC_BMI30_C\", \"RCC_BMI31P_C\", \"RCC_BMINR_C\", \"RCC_BU_C\", \n",
    "            \"RCC_GF_C\", \"RCC_GM_C\", \"RCC_GU_C\", \"RCC_ICU_C\", \"RCC_HOSPNR_C\", \"RCC_HOSP_C\", \"RCC_PTXN_C\", \n",
    "            \"RCC_PTXU_C\", \"RCC_PTXY_C\", \"RCC_NOTHOSP_C\", \"RCC_TST1_C\", \"RCC_TST1_R\", \"RCC_TST1A_C\", \"RCC_TST1A_R\", \n",
    "            \"RCC_TST1B_C\", \" RCC_TST1B_R\", \"RCC_TST2_C\", \"RCC_TST2_R\", \"RCC_TST2A_C\", \"RCC_TST2A_R\", \"RCC_TST2B_C\", \n",
    "            \"RCC_TST2B_R\", \"RCC_TST3_C\", \"RCC_TST3_R\", \"RCC_ME11_C\", \"RCC_ME11_R\", \"RCC_ME15_C\", \"RCC_ME15_R\", \n",
    "            \"RCC_ME21_C\", \"RCC_ME21_R\", \"RCC_ME31_C\", \"RCC_ME31_R\", \"RCC_ME6_C\", \"RCC_ME6_R\", \"RCC_PE6_C\", \n",
    "            \"RCC_PE6_R\", \"RCC_PE11_C\", \"RCC_PE11_R\", \"RCC_PE15_C\", \"RCC_PE15_R\", \"RCC_PE21_C\", \"RCC_PE21_R\", \n",
    "            \"RCC_PE31_C\", \"RCC_PE31_R\", \"RCC_TINA_C\", \"RCC_TINA_R\", \"RCC_N_C\"]"
   ]
  },
  {
   "cell_type": "code",
   "execution_count": 4,
   "id": "bb5d4034",
   "metadata": {},
   "outputs": [],
   "source": [
    "#import all the excel sheets from Figures C1-C2 - Deceased as dataframes. \n",
    "\n",
    "\n",
    "df_1506_c1c27d = pd.read_excel('kidney/1506_KI.XLS', sheet_name=sheet_name)\n",
    "df_1512_c1c27d = pd.read_excel('kidney/1512_KI.XLS', sheet_name=sheet_name)\n",
    "df_1606_c1c27d = pd.read_excel('kidney/1606_KI.XLS', sheet_name=sheet_name)\n",
    "df_1701_c1c27d = pd.read_excel('kidney/1701_KI.xls', sheet_name=sheet_name)\n",
    "df_1707_c1c27d = pd.read_excel('kidney/1707_KI.xls', sheet_name=sheet_name)\n",
    "df_1711_c1c27d = pd.read_excel('kidney/1711_KI.xls', sheet_name=sheet_name)\n",
    "df_1808_c1c27d = pd.read_excel('kidney/1808_KI.xls', sheet_name=sheet_name)\n",
    "df_1811_c1c27d = pd.read_excel('kidney/1811_KI.xls', sheet_name=sheet_name)\n",
    "df_1905_c1c27d = pd.read_excel('kidney/1905_KI.xls', sheet_name=sheet_name)\n",
    "df_1911_c1c27d = pd.read_excel('kidney/1911_KI.xls', sheet_name=sheet_name)\n",
    "df_2006_c1c27d = pd.read_excel('kidney/2006_KI.xls', sheet_name=sheet_name)\n",
    "df_2011_c1c27d = pd.read_excel('kidney/2011_KI.xls', sheet_name=sheet_name)\n",
    "df_2105_c1c27d = pd.read_excel('kidney/2105_KI.xls', sheet_name=sheet_name)\n",
    "df_2111_c1c27d = pd.read_excel('kidney/2111_KI.xls', sheet_name=sheet_name)\n",
    "df_2205_c1c27d = pd.read_excel('kidney/2205_KI.xls', sheet_name=sheet_name)\n",
    "df_2211_c1c27d = pd.read_excel('kidney/2211_KI.xls', sheet_name=sheet_name)\n"
   ]
  },
  {
   "cell_type": "code",
   "execution_count": 5,
   "id": "00ab980b",
   "metadata": {},
   "outputs": [],
   "source": [
    "#get Table 7 excel files\n",
    "sheet_name = 'Table 7 - Deceased'\n",
    "\n",
    "tb7_excel_files = ['1207_KI.XLS', '1301_KI.XLS', '1307_KI.XLS', '1401_KI.XLS', '1406_KI.XLS', '1412_KI.XLS']\n",
    "\n",
    "df_1207_c1c27d = pd.read_excel('kidney/1207_KI.XLS', sheet_name=sheet_name)\n",
    "df_1301_c1c27d = pd.read_excel('kidney/1301_KI.XLS', sheet_name=sheet_name)\n",
    "df_1307_c1c27d = pd.read_excel('kidney/1307_KI.XLS', sheet_name=sheet_name)\n",
    "df_1401_c1c27d = pd.read_excel('kidney/1401_KI.XLS', sheet_name=sheet_name)\n",
    "df_1406_c1c27d = pd.read_excel('kidney/1406_KI.XLS', sheet_name=sheet_name)\n",
    "df_1412_c1c27d = pd.read_excel('kidney/1412_KI.XLS', sheet_name=sheet_name)"
   ]
  },
  {
   "cell_type": "code",
   "execution_count": 6,
   "id": "5c01946c",
   "metadata": {},
   "outputs": [
    {
     "name": "stdout",
     "output_type": "stream",
     "text": [
      "Variable          Type         Data/Info\n",
      "----------------------------------------\n",
      "c12_excel_files   list         n=16\n",
      "col_keep          list         n=69\n",
      "df_1207_c1c27d    DataFrame                             <...>n[233 rows x 194 columns]\n",
      "df_1301_c1c27d    DataFrame                             <...>n[233 rows x 194 columns]\n",
      "df_1307_c1c27d    DataFrame                             <...>n[232 rows x 194 columns]\n",
      "df_1401_c1c27d    DataFrame                             <...>n[233 rows x 194 columns]\n",
      "df_1406_c1c27d    DataFrame                             <...>n[235 rows x 194 columns]\n",
      "df_1412_c1c27d    DataFrame                             <...>n[232 rows x 194 columns]\n",
      "df_1506_c1c27d    DataFrame                             <...>n[232 rows x 194 columns]\n",
      "df_1512_c1c27d    DataFrame                             <...>n[235 rows x 194 columns]\n",
      "df_1606_c1c27d    DataFrame                             <...>n[237 rows x 194 columns]\n",
      "df_1701_c1c27d    DataFrame                             <...>n[235 rows x 194 columns]\n",
      "df_1707_c1c27d    DataFrame                             <...>n[236 rows x 194 columns]\n",
      "df_1711_c1c27d    DataFrame                             <...>n[238 rows x 194 columns]\n",
      "df_1808_c1c27d    DataFrame                             <...>n[238 rows x 194 columns]\n",
      "df_1811_c1c27d    DataFrame                             <...>n[240 rows x 194 columns]\n",
      "df_1905_c1c27d    DataFrame                             <...>n[239 rows x 194 columns]\n",
      "df_1911_c1c27d    DataFrame                             <...>n[234 rows x 198 columns]\n",
      "df_2006_c1c27d    DataFrame                             <...>n[234 rows x 198 columns]\n",
      "df_2011_c1c27d    DataFrame                             <...>n[232 rows x 198 columns]\n",
      "df_2105_c1c27d    DataFrame                             <...>n[233 rows x 198 columns]\n",
      "df_2111_c1c27d    DataFrame                             <...>n[233 rows x 198 columns]\n",
      "df_2205_c1c27d    DataFrame                             <...>n[232 rows x 198 columns]\n",
      "df_2211_c1c27d    DataFrame                             <...>n[234 rows x 198 columns]\n",
      "pd                module       <module 'pandas' from '/U<...>ages/pandas/__init__.py'>\n",
      "sheet_name        str          Table 7 - Deceased\n",
      "tb7_excel_files   list         n=6\n"
     ]
    }
   ],
   "source": [
    "%whos"
   ]
  },
  {
   "cell_type": "code",
   "execution_count": 7,
   "id": "1602effa",
   "metadata": {},
   "outputs": [],
   "source": [
    "#create a list of dataframes from sheet Figures C1-C2 - Deceased or Table 7 - Deceased which is: C1C27D\n",
    "c1c27d_df_list = [df_1506_c1c27d, df_1512_c1c27d, df_1606_c1c27d, df_1701_c1c27d, df_1707_c1c27d, \n",
    "                  df_1711_c1c27d, df_1808_c1c27d, df_1811_c1c27d, df_1905_c1c27d, df_1911_c1c27d,\n",
    "                  df_2006_c1c27d, df_2011_c1c27d, df_2105_c1c27d, df_2111_c1c27d, df_2205_c1c27d,\n",
    "                  df_2211_c1c27d, df_1207_c1c27d, df_1301_c1c27d, df_1307_c1c27d, df_1401_c1c27d,\n",
    "                  df_1406_c1c27d, df_1412_c1c27d]"
   ]
  },
  {
   "cell_type": "code",
   "execution_count": 8,
   "id": "803395af",
   "metadata": {},
   "outputs": [
    {
     "name": "stdout",
     "output_type": "stream",
     "text": [
      "198\n"
     ]
    }
   ],
   "source": [
    "#check number of columns tables C1-C2 - Deceased\n",
    "print(len(df_2211_c1c27d.columns))"
   ]
  },
  {
   "cell_type": "code",
   "execution_count": 9,
   "id": "970004dd",
   "metadata": {},
   "outputs": [
    {
     "name": "stdout",
     "output_type": "stream",
     "text": [
      "194\n"
     ]
    }
   ],
   "source": [
    "#check number of columns from sheet Table 7 - Deceased\n",
    "print(len(df_1207_c1c27d.columns))"
   ]
  },
  {
   "cell_type": "code",
   "execution_count": 10,
   "id": "cbc23f6f",
   "metadata": {},
   "outputs": [],
   "source": [
    "#remove leading whitespace from columns from dataframes\n",
    "df_1207_c1c27d.columns = df_1207_c1c27d.columns.str.strip()\n",
    "df_1301_c1c27d.columns = df_1301_c1c27d.columns.str.strip()\n",
    "df_1307_c1c27d.columns = df_1307_c1c27d.columns.str.strip()\n",
    "df_1401_c1c27d.columns = df_1401_c1c27d.columns.str.strip()\n",
    "df_1406_c1c27d.columns = df_1406_c1c27d.columns.str.strip()\n",
    "df_1412_c1c27d.columns = df_1412_c1c27d.columns.str.strip()\n",
    "df_1506_c1c27d.columns = df_1506_c1c27d.columns.str.strip()\n",
    "df_1512_c1c27d.columns = df_1512_c1c27d.columns.str.strip()\n",
    "df_1606_c1c27d.columns = df_1606_c1c27d.columns.str.strip()\n"
   ]
  },
  {
   "cell_type": "code",
   "execution_count": 11,
   "id": "1506e710",
   "metadata": {},
   "outputs": [],
   "source": [
    "# df_1207_c1c27d\n",
    "# df_1301_c1c27d\n",
    "# df_1307_c1c27d\n",
    "# df_1401_c1c27d\n",
    "# df_1406_c1c27d\n",
    "# df_1412_c1c27d\n",
    "# df_1506_c1c27d\n",
    "# df_1512_c1c27d\n",
    "# df_1606_c1c27d\n",
    "# df_1701_c1c27d\n",
    "# df_1707_c1c27d\n",
    "# df_1711_c1c27d\n",
    "# df_1808_c1c27d\n",
    "# df_1811_c1c27d\n",
    "# df_1905_c1c27d\n",
    "# df_1911_c1c27d\n",
    "# df_2006_c1c27d\n",
    "# df_2011_c1c27d\n",
    "# df_2105_c1c27d\n",
    "# df_2111_c1c27d\n",
    "# df_2205_c1c27d\n",
    "# df_2211_c1c27d"
   ]
  },
  {
   "cell_type": "code",
   "execution_count": 12,
   "id": "e74d232b",
   "metadata": {},
   "outputs": [
    {
     "data": {
      "text/plain": [
       "list"
      ]
     },
     "execution_count": 12,
     "metadata": {},
     "output_type": "execute_result"
    }
   ],
   "source": [
    "all_variables = globals()\n",
    "\n",
    "# Filter the dictionary to get DataFrame variables only\n",
    "dataframes_list = [variable for variable in all_variables.values() if isinstance(variable, pd.DataFrame)]\n",
    "type(dataframes_list)"
   ]
  },
  {
   "cell_type": "code",
   "execution_count": 14,
   "id": "34bec4fe",
   "metadata": {},
   "outputs": [],
   "source": [
    "col_keep_strip = [s.lstrip() for s in col_keep]"
   ]
  },
  {
   "cell_type": "code",
   "execution_count": 15,
   "id": "b8ee21cb",
   "metadata": {},
   "outputs": [],
   "source": [
    "add_new = ['YEAR', 'MONTH', 'D_OR_L']\n",
    "col_keep_strip += add_new"
   ]
  },
  {
   "cell_type": "code",
   "execution_count": 16,
   "id": "c6324cee",
   "metadata": {},
   "outputs": [
    {
     "data": {
      "text/plain": [
       "['ENTIRE_NAME',\n",
       " 'CTR_CD',\n",
       " 'CTR_TY',\n",
       " 'RELEASE_DATE',\n",
       " 'ORG',\n",
       " 'RCC_A10_C',\n",
       " 'RCC_A17_C',\n",
       " 'RCC_A2_C',\n",
       " 'RCC_A34_C',\n",
       " 'RCC_A49_C',\n",
       " 'RCC_A65P_C',\n",
       " 'RCC_AU_C',\n",
       " 'RCC_BAB_C',\n",
       " 'RCC_BA_C',\n",
       " 'RCC_BB_C',\n",
       " 'RCC_BO_C',\n",
       " 'RCC_BMI20_C',\n",
       " 'RCC_BMI25_C',\n",
       " 'RCC_BMI30_C',\n",
       " 'RCC_BMI31P_C',\n",
       " 'RCC_BMINR_C',\n",
       " 'RCC_BU_C',\n",
       " 'RCC_GF_C',\n",
       " 'RCC_GM_C',\n",
       " 'RCC_GU_C',\n",
       " 'RCC_ICU_C',\n",
       " 'RCC_HOSPNR_C',\n",
       " 'RCC_HOSP_C',\n",
       " 'RCC_PTXN_C',\n",
       " 'RCC_PTXU_C',\n",
       " 'RCC_PTXY_C',\n",
       " 'RCC_NOTHOSP_C',\n",
       " 'RCC_TST1_C',\n",
       " 'RCC_TST1_R',\n",
       " 'RCC_TST1A_C',\n",
       " 'RCC_TST1A_R',\n",
       " 'RCC_TST1B_C',\n",
       " 'RCC_TST1B_R',\n",
       " 'RCC_TST2_C',\n",
       " 'RCC_TST2_R',\n",
       " 'RCC_TST2A_C',\n",
       " 'RCC_TST2A_R',\n",
       " 'RCC_TST2B_C',\n",
       " 'RCC_TST2B_R',\n",
       " 'RCC_TST3_C',\n",
       " 'RCC_TST3_R',\n",
       " 'RCC_ME11_C',\n",
       " 'RCC_ME11_R',\n",
       " 'RCC_ME15_C',\n",
       " 'RCC_ME15_R',\n",
       " 'RCC_ME21_C',\n",
       " 'RCC_ME21_R',\n",
       " 'RCC_ME31_C',\n",
       " 'RCC_ME31_R',\n",
       " 'RCC_ME6_C',\n",
       " 'RCC_ME6_R',\n",
       " 'RCC_PE6_C',\n",
       " 'RCC_PE6_R',\n",
       " 'RCC_PE11_C',\n",
       " 'RCC_PE11_R',\n",
       " 'RCC_PE15_C',\n",
       " 'RCC_PE15_R',\n",
       " 'RCC_PE21_C',\n",
       " 'RCC_PE21_R',\n",
       " 'RCC_PE31_C',\n",
       " 'RCC_PE31_R',\n",
       " 'RCC_TINA_C',\n",
       " 'RCC_TINA_R',\n",
       " 'RCC_N_C',\n",
       " 'YEAR',\n",
       " 'MONTH',\n",
       " 'D_OR_L']"
      ]
     },
     "execution_count": 16,
     "metadata": {},
     "output_type": "execute_result"
    }
   ],
   "source": [
    "col_keep_strip"
   ]
  },
  {
   "cell_type": "code",
   "execution_count": 17,
   "id": "af9cc3da",
   "metadata": {},
   "outputs": [
    {
     "data": {
      "text/plain": [
       "72"
      ]
     },
     "execution_count": 17,
     "metadata": {},
     "output_type": "execute_result"
    }
   ],
   "source": [
    "len(col_keep_strip)"
   ]
  },
  {
   "cell_type": "code",
   "execution_count": 18,
   "id": "5733f795",
   "metadata": {},
   "outputs": [
    {
     "name": "stdout",
     "output_type": "stream",
     "text": [
      "23.6842105264\n",
      "27.848101265700002\n",
      "38.2978723406\n",
      "32.9411764702\n",
      "24.193548387\n",
      "24.242424242\n",
      "12.941176470599999\n"
     ]
    }
   ],
   "source": [
    "#create a dataframes list that need the aggregation for combing age group data\n",
    "agg_df_list = [df_1911_c1c27d, df_2006_c1c27d, df_2011_c1c27d, df_2105_c1c27d, df_2111_c1c27d, \n",
    "          df_2205_c1c27d, df_2211_c1c27d]\n",
    "\n",
    "column_a69 = 'RCC_A69_C'\n",
    "column_a70 = 'RCC_A70P_C'\n",
    "column_a65 = 'RCC_A65P_C'\n",
    "\n",
    "for df in agg_df_list:\n",
    "#     df[column_a69] = df[column_a69] / 100\n",
    "#     print(df[column_a69][0])\n",
    "#     df[column_a70] = df[column_a70] / 100\n",
    "#     print(df[column_a70][0])\n",
    "    #add them together\n",
    "    df[column_a65] = df[column_a69] + df[column_a70]\n",
    "    print(df[column_a65][0])\n",
    "#     df[column_a65] = (df[column_a65] * 100)\n",
    "#     print(df[column_a65][0])"
   ]
  },
  {
   "cell_type": "code",
   "execution_count": 19,
   "id": "f8a4ed4d",
   "metadata": {},
   "outputs": [],
   "source": [
    "#add Unknown Age column and set it to zero\n",
    "for df in agg_df_list:\n",
    "    df['RCC_AU_C'] = 0"
   ]
  },
  {
   "cell_type": "code",
   "execution_count": 20,
   "id": "b336ea1e",
   "metadata": {},
   "outputs": [],
   "source": [
    "#dataframes_names = [name for name, variable in all_variables.items() if isinstance(variable, pd.DataFrame) and variable in dataframes_list]"
   ]
  },
  {
   "cell_type": "code",
   "execution_count": 21,
   "id": "1f4ddba2",
   "metadata": {},
   "outputs": [
    {
     "name": "stdout",
     "output_type": "stream",
     "text": [
      "34.2105263164\n",
      "37.9746835443\n",
      "42.5531914891\n",
      "43.5294117649\n",
      "38.709677418999995\n",
      "27.2727272733\n",
      "27.0588235299\n"
     ]
    }
   ],
   "source": [
    "#take columns RCC_BMI35_C + RCC_BMI40_C + RCC_BMI41P_C = RCC_BMI31P_C\n",
    "#This is for BMI greater than 35, 40 and 41 and combining them to be greater than 31 BMI\n",
    "\n",
    "column_bmi35 = 'RCC_BMI35_C'\n",
    "column_bmi40 = 'RCC_BMI40_C'\n",
    "column_bmi41 = 'RCC_BMI41P_C'\n",
    "column_bmi31 = 'RCC_BMI31P_C'\n",
    "\n",
    "for df in agg_df_list:\n",
    "#     df[column_bmi35] = df[column_bmi35] / 100\n",
    "#     print(df[column_bmi35][0])\n",
    "#     df[column_bmi40] = df[column_bmi40] / 100\n",
    "#     print(df[column_bmi40][0])\n",
    "#     df[column_bmi41] = df[column_bmi41] / 100\n",
    "#     print(df[column_bmi41][0])\n",
    "    \n",
    "    #add them together\n",
    "    df[column_bmi31] = df[column_bmi35] + df[column_bmi40] + df[column_bmi41]\n",
    "    print(df[column_bmi31][0])\n",
    "#     df[column_bmi31] = (df[column_bmi31] * 100)\n",
    "#     print(df[column_bmi31][0])"
   ]
  },
  {
   "cell_type": "code",
   "execution_count": 22,
   "id": "c79eb1a8",
   "metadata": {},
   "outputs": [],
   "source": [
    "df_1207_c1c27d = df_1207_c1c27d[col_keep_strip]\n",
    "df_1301_c1c27d = df_1301_c1c27d[col_keep_strip]\n",
    "df_1307_c1c27d = df_1307_c1c27d[col_keep_strip]\n",
    "df_1401_c1c27d = df_1401_c1c27d[col_keep_strip]\n",
    "df_1406_c1c27d = df_1406_c1c27d[col_keep_strip]\n",
    "df_1412_c1c27d = df_1412_c1c27d[col_keep_strip]\n",
    "df_1506_c1c27d = df_1506_c1c27d[col_keep_strip]\n",
    "df_1512_c1c27d = df_1512_c1c27d[col_keep_strip]\n",
    "df_1606_c1c27d = df_1606_c1c27d[col_keep_strip]\n",
    "df_1701_c1c27d = df_1701_c1c27d[col_keep_strip]\n",
    "df_1707_c1c27d = df_1707_c1c27d[col_keep_strip]\n",
    "df_1711_c1c27d = df_1711_c1c27d[col_keep_strip]\n",
    "df_1808_c1c27d = df_1808_c1c27d[col_keep_strip]\n",
    "df_1811_c1c27d = df_1811_c1c27d[col_keep_strip]\n",
    "df_1905_c1c27d = df_1905_c1c27d[col_keep_strip]\n",
    "df_1911_c1c27d = df_1911_c1c27d[col_keep_strip]\n",
    "df_2006_c1c27d = df_2006_c1c27d[col_keep_strip]\n",
    "df_2011_c1c27d = df_2011_c1c27d[col_keep_strip]\n",
    "df_2105_c1c27d = df_2105_c1c27d[col_keep_strip]\n",
    "df_2111_c1c27d = df_2111_c1c27d[col_keep_strip]\n",
    "df_2205_c1c27d = df_2205_c1c27d[col_keep_strip]\n",
    "df_2211_c1c27d = df_2211_c1c27d[col_keep_strip]"
   ]
  },
  {
   "cell_type": "code",
   "execution_count": 23,
   "id": "3f442e8c",
   "metadata": {},
   "outputs": [],
   "source": [
    "new_df_list = [df_1506_c1c27d, df_1512_c1c27d, df_1606_c1c27d, df_1701_c1c27d, df_1707_c1c27d, \n",
    "                  df_1711_c1c27d, df_1808_c1c27d, df_1811_c1c27d, df_1905_c1c27d, df_1911_c1c27d,\n",
    "                  df_2006_c1c27d, df_2011_c1c27d, df_2105_c1c27d, df_2111_c1c27d, df_2205_c1c27d,\n",
    "                  df_2211_c1c27d, df_1207_c1c27d, df_1301_c1c27d, df_1307_c1c27d, df_1401_c1c27d,\n",
    "                  df_1406_c1c27d, df_1412_c1c27d]"
   ]
  },
  {
   "cell_type": "code",
   "execution_count": 24,
   "id": "66b2e3ad",
   "metadata": {},
   "outputs": [
    {
     "name": "stdout",
     "output_type": "stream",
     "text": [
      "72\n"
     ]
    }
   ],
   "source": [
    "print(len(df_1905_c1c27d.columns))"
   ]
  },
  {
   "cell_type": "code",
   "execution_count": 25,
   "id": "53ac1669",
   "metadata": {},
   "outputs": [],
   "source": [
    "df_c1c27d_concat = pd.concat(new_df_list)"
   ]
  },
  {
   "cell_type": "code",
   "execution_count": 26,
   "id": "9a5cd0e2",
   "metadata": {},
   "outputs": [
    {
     "data": {
      "text/html": [
       "<div>\n",
       "<style scoped>\n",
       "    .dataframe tbody tr th:only-of-type {\n",
       "        vertical-align: middle;\n",
       "    }\n",
       "\n",
       "    .dataframe tbody tr th {\n",
       "        vertical-align: top;\n",
       "    }\n",
       "\n",
       "    .dataframe thead th {\n",
       "        text-align: right;\n",
       "    }\n",
       "</style>\n",
       "<table border=\"1\" class=\"dataframe\">\n",
       "  <thead>\n",
       "    <tr style=\"text-align: right;\">\n",
       "      <th></th>\n",
       "      <th>ENTIRE_NAME</th>\n",
       "      <th>CTR_CD</th>\n",
       "      <th>CTR_TY</th>\n",
       "      <th>RELEASE_DATE</th>\n",
       "      <th>ORG</th>\n",
       "      <th>RCC_A10_C</th>\n",
       "      <th>RCC_A17_C</th>\n",
       "      <th>RCC_A2_C</th>\n",
       "      <th>RCC_A34_C</th>\n",
       "      <th>RCC_A49_C</th>\n",
       "      <th>...</th>\n",
       "      <th>RCC_PE21_C</th>\n",
       "      <th>RCC_PE21_R</th>\n",
       "      <th>RCC_PE31_C</th>\n",
       "      <th>RCC_PE31_R</th>\n",
       "      <th>RCC_TINA_C</th>\n",
       "      <th>RCC_TINA_R</th>\n",
       "      <th>RCC_N_C</th>\n",
       "      <th>YEAR</th>\n",
       "      <th>MONTH</th>\n",
       "      <th>D_OR_L</th>\n",
       "    </tr>\n",
       "  </thead>\n",
       "  <tbody>\n",
       "    <tr>\n",
       "      <th>0</th>\n",
       "      <td>Children's of Alabama (ALCH)</td>\n",
       "      <td>ALCH</td>\n",
       "      <td>TX1</td>\n",
       "      <td>2015/06/16</td>\n",
       "      <td>Kidney</td>\n",
       "      <td>20.0</td>\n",
       "      <td>53.3</td>\n",
       "      <td>6.7</td>\n",
       "      <td>20.0</td>\n",
       "      <td>0.0</td>\n",
       "      <td>...</td>\n",
       "      <td></td>\n",
       "      <td></td>\n",
       "      <td></td>\n",
       "      <td></td>\n",
       "      <td></td>\n",
       "      <td></td>\n",
       "      <td>15</td>\n",
       "      <td>2015</td>\n",
       "      <td>6</td>\n",
       "      <td>DECEASED</td>\n",
       "    </tr>\n",
       "    <tr>\n",
       "      <th>1</th>\n",
       "      <td>University of Alabama Hospital (ALUA)</td>\n",
       "      <td>ALUA</td>\n",
       "      <td>TX1</td>\n",
       "      <td>2015/06/16</td>\n",
       "      <td>Kidney</td>\n",
       "      <td>0.0</td>\n",
       "      <td>0.0</td>\n",
       "      <td>0.0</td>\n",
       "      <td>11.3</td>\n",
       "      <td>25.8</td>\n",
       "      <td>...</td>\n",
       "      <td></td>\n",
       "      <td></td>\n",
       "      <td></td>\n",
       "      <td></td>\n",
       "      <td></td>\n",
       "      <td></td>\n",
       "      <td>124</td>\n",
       "      <td>2015</td>\n",
       "      <td>6</td>\n",
       "      <td>DECEASED</td>\n",
       "    </tr>\n",
       "    <tr>\n",
       "      <th>2</th>\n",
       "      <td>Baptist Medical Center (ARBH)</td>\n",
       "      <td>ARBH</td>\n",
       "      <td>TX1</td>\n",
       "      <td>2015/06/16</td>\n",
       "      <td>Kidney</td>\n",
       "      <td>0.0</td>\n",
       "      <td>0.0</td>\n",
       "      <td>0.0</td>\n",
       "      <td>0.0</td>\n",
       "      <td>42.9</td>\n",
       "      <td>...</td>\n",
       "      <td></td>\n",
       "      <td></td>\n",
       "      <td></td>\n",
       "      <td></td>\n",
       "      <td></td>\n",
       "      <td></td>\n",
       "      <td>21</td>\n",
       "      <td>2015</td>\n",
       "      <td>6</td>\n",
       "      <td>DECEASED</td>\n",
       "    </tr>\n",
       "    <tr>\n",
       "      <th>3</th>\n",
       "      <td>Arkansas Children's Hospital (ARCH)</td>\n",
       "      <td>ARCH</td>\n",
       "      <td>TX1</td>\n",
       "      <td>2015/06/16</td>\n",
       "      <td>Kidney</td>\n",
       "      <td>66.7</td>\n",
       "      <td>33.3</td>\n",
       "      <td>0.0</td>\n",
       "      <td>0.0</td>\n",
       "      <td>0.0</td>\n",
       "      <td>...</td>\n",
       "      <td></td>\n",
       "      <td></td>\n",
       "      <td></td>\n",
       "      <td></td>\n",
       "      <td></td>\n",
       "      <td></td>\n",
       "      <td>6</td>\n",
       "      <td>2015</td>\n",
       "      <td>6</td>\n",
       "      <td>DECEASED</td>\n",
       "    </tr>\n",
       "    <tr>\n",
       "      <th>4</th>\n",
       "      <td>UAMS Medical Center (ARUA)</td>\n",
       "      <td>ARUA</td>\n",
       "      <td>TX1</td>\n",
       "      <td>2015/06/16</td>\n",
       "      <td>Kidney</td>\n",
       "      <td>0.0</td>\n",
       "      <td>0.0</td>\n",
       "      <td>0.0</td>\n",
       "      <td>30.0</td>\n",
       "      <td>26.7</td>\n",
       "      <td>...</td>\n",
       "      <td></td>\n",
       "      <td></td>\n",
       "      <td></td>\n",
       "      <td></td>\n",
       "      <td></td>\n",
       "      <td></td>\n",
       "      <td>30</td>\n",
       "      <td>2015</td>\n",
       "      <td>6</td>\n",
       "      <td>DECEASED</td>\n",
       "    </tr>\n",
       "  </tbody>\n",
       "</table>\n",
       "<p>5 rows × 72 columns</p>\n",
       "</div>"
      ],
      "text/plain": [
       "                              ENTIRE_NAME  CTR_CD CTR_TY  RELEASE_DATE  \\\n",
       "0           Children's of Alabama (ALCH)    ALCH    TX1    2015/06/16    \n",
       "1  University of Alabama Hospital (ALUA)    ALUA    TX1    2015/06/16    \n",
       "2          Baptist Medical Center (ARBH)    ARBH    TX1    2015/06/16    \n",
       "3    Arkansas Children's Hospital (ARCH)    ARCH    TX1    2015/06/16    \n",
       "4             UAMS Medical Center (ARUA)    ARUA    TX1    2015/06/16    \n",
       "\n",
       "        ORG  RCC_A10_C  RCC_A17_C  RCC_A2_C  RCC_A34_C  RCC_A49_C  ...  \\\n",
       "0   Kidney        20.0       53.3       6.7       20.0        0.0  ...   \n",
       "1   Kidney         0.0        0.0       0.0       11.3       25.8  ...   \n",
       "2   Kidney         0.0        0.0       0.0        0.0       42.9  ...   \n",
       "3   Kidney        66.7       33.3       0.0        0.0        0.0  ...   \n",
       "4   Kidney         0.0        0.0       0.0       30.0       26.7  ...   \n",
       "\n",
       "   RCC_PE21_C  RCC_PE21_R  RCC_PE31_C  RCC_PE31_R  RCC_TINA_C  RCC_TINA_R  \\\n",
       "0                                                                           \n",
       "1                                                                           \n",
       "2                                                                           \n",
       "3                                                                           \n",
       "4                                                                           \n",
       "\n",
       "   RCC_N_C  YEAR  MONTH    D_OR_L  \n",
       "0       15  2015      6  DECEASED  \n",
       "1      124  2015      6  DECEASED  \n",
       "2       21  2015      6  DECEASED  \n",
       "3        6  2015      6  DECEASED  \n",
       "4       30  2015      6  DECEASED  \n",
       "\n",
       "[5 rows x 72 columns]"
      ]
     },
     "execution_count": 26,
     "metadata": {},
     "output_type": "execute_result"
    }
   ],
   "source": [
    "df_c1c27d_concat.head()"
   ]
  },
  {
   "cell_type": "code",
   "execution_count": 27,
   "id": "3e5982f9",
   "metadata": {},
   "outputs": [],
   "source": [
    "df_c1c27d_concat.to_csv('output/kidney_C1-C2-T7-D.csv')"
   ]
  },
  {
   "cell_type": "code",
   "execution_count": null,
   "id": "5aa64cff",
   "metadata": {},
   "outputs": [],
   "source": []
  }
 ],
 "metadata": {
  "kernelspec": {
   "display_name": "PythonData",
   "language": "python",
   "name": "pythondata"
  },
  "language_info": {
   "codemirror_mode": {
    "name": "ipython",
    "version": 3
   },
   "file_extension": ".py",
   "mimetype": "text/x-python",
   "name": "python",
   "nbconvert_exporter": "python",
   "pygments_lexer": "ipython3",
   "version": "3.7.13"
  }
 },
 "nbformat": 4,
 "nbformat_minor": 5
}
