{
 "cells": [
  {
   "cell_type": "code",
   "execution_count": 7,
   "id": "ee3bcd29",
   "metadata": {},
   "outputs": [],
   "source": [
    "# Importing dependencies\n",
    "\n",
    "import pandas as pd\n",
    "import numpy as np\n",
    "import datetime as dt\n",
    "import re\n",
    "import calendar\n",
    "import os"
   ]
  },
  {
   "cell_type": "code",
   "execution_count": 8,
   "id": "5fa8b877",
   "metadata": {},
   "outputs": [],
   "source": [
    "directory = 'Resources'\n",
    "\n",
    "all_files = os.listdir(directory)\n",
    "\n",
    "liver_files = [file for file in all_files if file.startswith('liver') and file.endswith('.XLS')]"
   ]
  },
  {
   "cell_type": "raw",
   "id": "905094ee",
   "metadata": {},
   "source": []
  },
  {
   "cell_type": "code",
   "execution_count": 9,
   "id": "5788cbd4",
   "metadata": {},
   "outputs": [
    {
     "data": {
      "text/plain": [
       "['liver_2012_07.XLS',\n",
       " 'liver_2014_01.XLS',\n",
       " 'liver_2014_06.XLS',\n",
       " 'liver_2014_12.XLS',\n",
       " 'liver_2013_01.XLS',\n",
       " 'liver_2013_07.XLS']"
      ]
     },
     "execution_count": 9,
     "metadata": {},
     "output_type": "execute_result"
    }
   ],
   "source": [
    "liver_files"
   ]
  },
  {
   "cell_type": "code",
   "execution_count": 10,
   "id": "3da94351",
   "metadata": {},
   "outputs": [
    {
     "data": {
      "text/plain": [
       "'Resources'"
      ]
     },
     "execution_count": 10,
     "metadata": {},
     "output_type": "execute_result"
    }
   ],
   "source": [
    "directory"
   ]
  },
  {
   "cell_type": "code",
   "execution_count": 12,
   "id": "9787dae4",
   "metadata": {},
   "outputs": [
    {
     "ename": "NameError",
     "evalue": "name 'combined_data' is not defined",
     "output_type": "error",
     "traceback": [
      "\u001b[0;31m---------------------------------------------------------------------------\u001b[0m",
      "\u001b[0;31mNameError\u001b[0m                                 Traceback (most recent call last)",
      "\u001b[0;32m/var/folders/mz/l83rpczn2nx48t79lxm01l1c0000gn/T/ipykernel_35029/233197794.py\u001b[0m in \u001b[0;36m<module>\u001b[0;34m\u001b[0m\n\u001b[1;32m     28\u001b[0m                 \u001b[0mdf\u001b[0m\u001b[0;34m[\u001b[0m\u001b[0;34m\"MONTH\"\u001b[0m\u001b[0;34m]\u001b[0m \u001b[0;34m=\u001b[0m \u001b[0mmonth\u001b[0m\u001b[0;34m\u001b[0m\u001b[0;34m\u001b[0m\u001b[0m\n\u001b[1;32m     29\u001b[0m \u001b[0;34m\u001b[0m\u001b[0m\n\u001b[0;32m---> 30\u001b[0;31m \u001b[0mcombined_data\u001b[0m \u001b[0;34m=\u001b[0m \u001b[0mcombined_data\u001b[0m\u001b[0;34m.\u001b[0m\u001b[0mappend\u001b[0m\u001b[0;34m(\u001b[0m\u001b[0mdf\u001b[0m\u001b[0;34m,\u001b[0m \u001b[0mignore_index\u001b[0m\u001b[0;34m=\u001b[0m\u001b[0;32mTrue\u001b[0m\u001b[0;34m)\u001b[0m\u001b[0;34m\u001b[0m\u001b[0;34m\u001b[0m\u001b[0m\n\u001b[0m\u001b[1;32m     31\u001b[0m \u001b[0;34m\u001b[0m\u001b[0m\n\u001b[1;32m     32\u001b[0m \u001b[0mprint\u001b[0m\u001b[0;34m(\u001b[0m\u001b[0mcombined_data\u001b[0m\u001b[0;34m)\u001b[0m\u001b[0;34m\u001b[0m\u001b[0;34m\u001b[0m\u001b[0m\n",
      "\u001b[0;31mNameError\u001b[0m: name 'combined_data' is not defined"
     ]
    }
   ],
   "source": [
    "for filename in os.listdir(directory):\n",
    "    if filename.startswith(\"liver\") and filename.endswith(\".XLS\"):\n",
    "        file_path = os.path.join(directory, filename)\n",
    "        \n",
    "        xls = pd.ExcelFile(file_path)\n",
    "        \n",
    "        for sheet_name in xls.sheet_names:\n",
    "            if sheet_name.startswith(\"Table 7 - Deceased\"):\n",
    "                df = xls.parse(sheet_name)\n",
    "                \n",
    "                df[\"D_OR_L\"] = \"DECEASED\"\n",
    "                \n",
    "                year = filename.split(\"_\")[1]\n",
    "                \n",
    "                month = filename.split(\"_\")[2].split(\".\")[0]\n",
    "                month = month.zfill(2)\n",
    "            if sheet_name.startswith(\"Table 7 - Living\"):\n",
    "                df = xls.parse(sheet_name)\n",
    "                \n",
    "                df[\"D_OR_L\"] = \"Living\"\n",
    "                \n",
    "                year = filename.split(\"_\")[1]\n",
    "                \n",
    "                month = filename.split(\"_\")[2].split(\".\")[0]\n",
    "                month = month.zfill(2)\n",
    "                \n",
    "                df[\"YEAR\"] = year\n",
    "                df[\"MONTH\"] = month\n",
    "                \n",
    "                combined_data = combined_data.append(df, ignore_index=True)\n",
    "\n",
    "print(combined_data)"
   ]
  },
  {
   "cell_type": "code",
   "execution_count": null,
   "id": "f12c9a52",
   "metadata": {},
   "outputs": [],
   "source": [
    "combined_data[\"D_OR_L\"]"
   ]
  },
  {
   "cell_type": "code",
   "execution_count": null,
   "id": "8e7cf32d",
   "metadata": {},
   "outputs": [],
   "source": []
  },
  {
   "cell_type": "code",
   "execution_count": null,
   "id": "b182a1b0",
   "metadata": {},
   "outputs": [],
   "source": []
  },
  {
   "cell_type": "code",
   "execution_count": null,
   "id": "26d720b5",
   "metadata": {},
   "outputs": [],
   "source": []
  },
  {
   "cell_type": "code",
   "execution_count": null,
   "id": "b321b66d",
   "metadata": {},
   "outputs": [],
   "source": [
    "\n",
    "        "
   ]
  },
  {
   "cell_type": "code",
   "execution_count": null,
   "id": "8d35fcd0",
   "metadata": {},
   "outputs": [],
   "source": []
  },
  {
   "cell_type": "code",
   "execution_count": null,
   "id": "2c35d77b",
   "metadata": {},
   "outputs": [],
   "source": []
  },
  {
   "cell_type": "code",
   "execution_count": null,
   "id": "6510aea1",
   "metadata": {},
   "outputs": [],
   "source": []
  }
 ],
 "metadata": {
  "kernelspec": {
   "display_name": "PythonData",
   "language": "python",
   "name": "pythondata"
  },
  "language_info": {
   "codemirror_mode": {
    "name": "ipython",
    "version": 3
   },
   "file_extension": ".py",
   "mimetype": "text/x-python",
   "name": "python",
   "nbconvert_exporter": "python",
   "pygments_lexer": "ipython3",
   "version": "3.7.7"
  }
 },
 "nbformat": 4,
 "nbformat_minor": 5
}
